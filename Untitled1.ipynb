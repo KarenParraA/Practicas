{
 "cells": [
  {
   "cell_type": "markdown",
   "id": "2281af64",
   "metadata": {},
   "source": [
    "Prueba"
   ]
  },
  {
   "cell_type": "code",
   "execution_count": 4,
   "id": "0eedb0d3-ab04-4d27-85dc-805fc01f4f3d",
   "metadata": {},
   "outputs": [
    {
     "name": "stdout",
     "output_type": "stream",
     "text": [
      "Write the number of iterations needed:  400\n"
     ]
    },
    {
     "name": "stdout",
     "output_type": "stream",
     "text": [
      "============================================================================================================================================\n",
      "Program to calculate the year in which the NPV value for a solar system installation is zero, developed by Karen Parra\n",
      "Fixed values:\n",
      " Energy cost: 0.1031\n",
      " Annual production: 2452.8\n",
      " Annual consumption: 2100\n",
      " Implementation cost: 2520.0\n",
      "Dinamic values used:\n",
      " Inflation rates: (0.94, 1.94)\n",
      " Tax discount rates: (6.38, 8.38)\n",
      "Years of study: (1, 25)\n",
      "Maximum year to zero: 7 Inflation rate: 1.1229221722011151 Discount rate: 7.9011189238219295 \n",
      "Minimum year to zero: 5 Inflation rate: 1.9154258775918254 Discount rate: 7.776896019879146 \n",
      "============================================================================================================================================\n"
     ]
    }
   ],
   "source": [
    "inflation_rates = (0.94,1.94)\n",
    "discount_rates = (6.38,8.38)\n",
    "energy_cost = 0.1031\n",
    "annual_productions = 2452.8\n",
    "years = (1,25)\n",
    "annual_consumption = 2100\n",
    "implementation_costs = 1.2*annual_consumption\n",
    "experiments_iterations=int(input(\"Write the number of iterations needed: \"))\n",
    "import random\n",
    "list_NPV=[]\n",
    "list_year_to_zero=[]\n",
    "list_values_NPV=[]\n",
    "for i in range(experiments_iterations):\n",
    "    inflation_rate=inflation_rates[0]+(inflation_rates[-1]-inflation_rates[0])*random.random()\n",
    "    discount_rate=discount_rates[0]+(discount_rates[-1]-discount_rates[0])*random.random()\n",
    "    NPV=0\n",
    "    year_to_zero=0\n",
    "    for year in range(years[0],years[1]):\n",
    "        NPV = (annual_consumption*energy_cost*(1+inflation_rate)**year)*((1/discount_rate)*(1-(1/(1+discount_rate)**year)))-implementation_costs\n",
    "        #print(i,year,NPV)\n",
    "        if NPV>=0:\n",
    "            year_to_zero=year\n",
    "            break\n",
    "    list_NPV.append(NPV)\n",
    "    list_year_to_zero.append(year_to_zero)\n",
    "    dictionary_values={\"inflation_rate\":inflation_rate,\"discount_rate\":discount_rate}\n",
    "    list_values_NPV.append(dictionary_values)\n",
    "#print(list_NPV,list_year_to_zero)\n",
    "max_year_to_zero=max(list_year_to_zero)\n",
    "max_year_to_zero_ID=list_year_to_zero.index(max_year_to_zero)\n",
    "min_year_to_zero=min(list_year_to_zero)\n",
    "min_year_to_zero_ID=list_year_to_zero.index(min_year_to_zero)\n",
    "max_values_NPV=list_values_NPV[max_year_to_zero_ID]\n",
    "min_values_NPV=list_values_NPV[min_year_to_zero_ID]\n",
    "print(140*\"=\")\n",
    "print(\"Program to calculate the year in which the NPV value for a solar system installation is zero, developed by Karen Parra\")\n",
    "print(\"Fixed values:\")\n",
    "print(f\" Energy cost: {energy_cost}\")\n",
    "print(f\" Annual production: {annual_productions}\")\n",
    "print(f\" Annual consumption: {annual_consumption}\")\n",
    "print(f\" Implementation cost: {implementation_costs}\")\n",
    "print(\"Dinamic values used:\")\n",
    "print(f\" Inflation rates: {inflation_rates}\")\n",
    "print(f\" Tax discount rates: {discount_rates}\")\n",
    "print(f\"Years of study: {years}\")\n",
    "print(f\"Maximum year to zero: {max_year_to_zero} Inflation rate: {max_values_NPV['inflation_rate']} Discount rate: {max_values_NPV['discount_rate']} \")\n",
    "print(f\"Minimum year to zero: {min_year_to_zero} Inflation rate: {min_values_NPV['inflation_rate']} Discount rate: {min_values_NPV['discount_rate']} \")\n",
    "print(140*\"=\")"
   ]
  },
  {
   "cell_type": "code",
   "execution_count": 1,
   "id": "b6db91d7-e1de-4d3f-83de-6eadce04a897",
   "metadata": {},
   "outputs": [
    {
     "name": "stdout",
     "output_type": "stream",
     "text": [
      "[7 7 3 7 7 5 3 7 7 7 7 7 7 5 7 7 7 7 7 7 5 5 7 7 5 7 7 5 7 5 7 7 7 3 7 7 7\n",
      " 7 7 7 5 7 5 5 7 7 7 7 7 7 7 5 7 5 7 7 7 5 7 7 7 5 7 7 7 5 7 5 7 5 7 3 5 5\n",
      " 7 7 7 3 5 3 7 5 3 7 7 5 7 5 7 3 7 7 3 7 7 3 7 3 5 7]\n"
     ]
    }
   ],
   "source": [
    "from numpy import random\n",
    "\n",
    "x = random.choice([3, 5, 7, 9], p=[0.1, 0.3, 0.6, 0.0], size=(100))\n",
    "\n",
    "print(x)"
   ]
  },
  {
   "cell_type": "code",
   "execution_count": 2,
   "id": "6c8d4a57-93a0-4007-b825-03c7600e0cea",
   "metadata": {},
   "outputs": [],
   "source": [
    "import matplotlib.pyplot as plt"
   ]
  },
  {
   "cell_type": "code",
   "execution_count": 3,
   "id": "d58e87e0-2035-4e2f-9efb-02a06810c749",
   "metadata": {},
   "outputs": [],
   "source": [
    "import seaborn as sns"
   ]
  },
  {
   "cell_type": "code",
   "execution_count": 12,
   "id": "815dab91-e251-471e-a77f-69aec9e9ffce",
   "metadata": {},
   "outputs": [
    {
     "data": {
      "image/png": "[encoded data removed]",
      "text/plain": [
       "<Figure size 432x288 with 1 Axes>"
      ]
     },
     "metadata": {
      "needs_background": "light"
     },
     "output_type": "display_data"
    }
   ],
   "source": [
    "import matplotlib.pyplot as plt\n",
    "import seaborn as sns\n",
    "\n",
    "sns.histplot([0, 1, 2, 3, 4, 5])\n",
    "\n",
    "plt.show()"
   ]
  },
  {
   "cell_type": "code",
   "execution_count": 15,
   "id": "0d0e7127-1be2-4fde-94d6-b49a6dd33576",
   "metadata": {},
   "outputs": [
    {
     "name": "stderr",
     "output_type": "stream",
     "text": [
      "C:\\Users\\karen\\AppData\\Local\\Programs\\Python\\Python310\\lib\\site-packages\\seaborn\\distributions.py:2619: FutureWarning: `distplot` is a deprecated function and will be removed in a future version. Please adapt your code to use either `displot` (a figure-level function with similar flexibility) or `kdeplot` (an axes-level function for kernel density plots).\n",
      "  warnings.warn(msg, FutureWarning)\n"
     ]
    },
    {
     "data": {
      "image/png": "[encoded data removed]",
      "text/plain": [
       "<Figure size 432x288 with 1 Axes>"
      ]
     },
     "metadata": {
      "needs_background": "light"
     },
     "output_type": "display_data"
    }
   ],
   "source": [
    "from numpy import random\n",
    "import matplotlib.pyplot as plt\n",
    "import seaborn as sns\n",
    "\n",
    "x = random.normal(size=1000)\n",
    "sns.distplot(random.normal(size=1000), hist=False)\n",
    "#print(x)\n",
    "plt.show()\n"
   ]
  },
  {
   "cell_type": "code",
   "execution_count": 37,
   "id": "34f41d3c-c44b-4f35-b9ec-7dc860e98ead",
   "metadata": {},
   "outputs": [
    {
     "name": "stdout",
     "output_type": "stream",
     "text": [
      "   calorias  min_ejercicio\n",
      "0       420             50\n",
      "1       380             40\n",
      "2       390             45\n"
     ]
    }
   ],
   "source": [
    "import pandas as pd\n",
    "data = {\n",
    "  \"calorias\": [420, 380, 390],\n",
    "  \"min_ejercicio\": [50, 40, 45]\n",
    "}\n",
    "\n",
    "#load data into a DataFrame object:\n",
    "df = pd.DataFrame(data)\n",
    "\n",
    "print(df) "
   ]
  },
  {
   "cell_type": "code",
   "execution_count": 21,
   "id": "98f1f67c-3dc8-404e-8eda-6568d7d7d610",
   "metadata": {},
   "outputs": [
    {
     "ename": "TypeError",
     "evalue": "read_csv() got an unexpected keyword argument 'sheet_name'",
     "output_type": "error",
     "traceback": [
      "\u001b[1;31m---------------------------------------------------------------------------\u001b[0m",
      "\u001b[1;31mTypeError\u001b[0m                                 Traceback (most recent call last)",
      "\u001b[1;32m~\\AppData\\Local\\Temp/ipykernel_16536/3268345993.py\u001b[0m in \u001b[0;36m<module>\u001b[1;34m\u001b[0m\n\u001b[0;32m      1\u001b[0m \u001b[1;32mimport\u001b[0m \u001b[0mpandas\u001b[0m \u001b[1;32mas\u001b[0m \u001b[0mpd\u001b[0m\u001b[1;33m\u001b[0m\u001b[1;33m\u001b[0m\u001b[0m\n\u001b[1;32m----> 2\u001b[1;33m \u001b[0mdf\u001b[0m \u001b[1;33m=\u001b[0m \u001b[0mpd\u001b[0m\u001b[1;33m.\u001b[0m\u001b[0mread_csv\u001b[0m\u001b[1;33m(\u001b[0m\u001b[1;34m'C:/BD_Limpieza_Ejercicio.csv'\u001b[0m\u001b[1;33m,\u001b[0m \u001b[0msheet_name\u001b[0m\u001b[1;33m=\u001b[0m\u001b[1;34m'BD'\u001b[0m\u001b[1;33m)\u001b[0m\u001b[1;33m\u001b[0m\u001b[1;33m\u001b[0m\u001b[0m\n\u001b[0m\u001b[0;32m      3\u001b[0m \u001b[0mprint\u001b[0m\u001b[1;33m(\u001b[0m\u001b[0mdf\u001b[0m\u001b[1;33m.\u001b[0m\u001b[0mhead\u001b[0m\u001b[1;33m(\u001b[0m\u001b[1;33m)\u001b[0m\u001b[1;33m)\u001b[0m\u001b[1;33m\u001b[0m\u001b[1;33m\u001b[0m\u001b[0m\n",
      "\u001b[1;32m~\\AppData\\Local\\Programs\\Python\\Python310\\lib\\site-packages\\pandas\\util\\_decorators.py\u001b[0m in \u001b[0;36mwrapper\u001b[1;34m(*args, **kwargs)\u001b[0m\n\u001b[0;32m    309\u001b[0m                     \u001b[0mstacklevel\u001b[0m\u001b[1;33m=\u001b[0m\u001b[0mstacklevel\u001b[0m\u001b[1;33m,\u001b[0m\u001b[1;33m\u001b[0m\u001b[1;33m\u001b[0m\u001b[0m\n\u001b[0;32m    310\u001b[0m                 )\n\u001b[1;32m--> 311\u001b[1;33m             \u001b[1;32mreturn\u001b[0m \u001b[0mfunc\u001b[0m\u001b[1;33m(\u001b[0m\u001b[1;33m*\u001b[0m\u001b[0margs\u001b[0m\u001b[1;33m,\u001b[0m \u001b[1;33m**\u001b[0m\u001b[0mkwargs\u001b[0m\u001b[1;33m)\u001b[0m\u001b[1;33m\u001b[0m\u001b[1;33m\u001b[0m\u001b[0m\n\u001b[0m\u001b[0;32m    312\u001b[0m \u001b[1;33m\u001b[0m\u001b[0m\n\u001b[0;32m    313\u001b[0m         \u001b[1;32mreturn\u001b[0m \u001b[0mwrapper\u001b[0m\u001b[1;33m\u001b[0m\u001b[1;33m\u001b[0m\u001b[0m\n",
      "\u001b[1;31mTypeError\u001b[0m: read_csv() got an unexpected keyword argument 'sheet_name'"
     ]
    }
   ],
   "source": [
    "import pandas as pd\n",
    "df = pd.read_csv('C:/BD_Limpieza_Ejercicio.csv', sheet_name='BD')\n",
    "print(df.head())"
   ]
  },
  {
   "cell_type": "code",
   "execution_count": null,
   "id": "8216b7b8-a853-4d0e-91bb-88f8cac88c00",
   "metadata": {},
   "outputs": [],
   "source": []
  }
 ],
 "metadata": {
  "kernelspec": {
   "display_name": "Python 3.10.0 64-bit",
   "language": "python",
   "name": "python3"
  },
  "language_info": {
   "codemirror_mode": {
    "name": "ipython",
    "version": 3
   },
   "file_extension": ".py",
   "mimetype": "text/x-python",
   "name": "python",
   "nbconvert_exporter": "python",
   "pygments_lexer": "ipython3",
   "version": "3.10.0"
  },
  "vscode": {
   "interpreter": {
    "hash": "e108a52cce57cf5916b07b5978582f744c8744d6a3baf99b96a1617e350b1888"
   }
  }
 },
 "nbformat": 4,
 "nbformat_minor": 5
}
